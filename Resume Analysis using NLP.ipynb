{
 "cells": [
  {
   "cell_type": "markdown",
   "id": "appropriate-consumer",
   "metadata": {},
   "source": [
    "### Part - 1 SpellCheker and Simmilarity Scores"
   ]
  },
  {
   "cell_type": "markdown",
   "id": "provincial-exhibition",
   "metadata": {},
   "source": [
    "#### Installing the required packages"
   ]
  },
  {
   "cell_type": "code",
   "execution_count": null,
   "id": "forty-directive",
   "metadata": {},
   "outputs": [],
   "source": [
    "import PyPDF2\n",
    "import textract\n",
    "import docx2txt"
   ]
  },
  {
   "cell_type": "code",
   "execution_count": 2,
   "id": "equivalent-carolina",
   "metadata": {},
   "outputs": [],
   "source": [
    "import pandas as pd\n",
    "import matplotlib.pyplot as plt\n",
    "%matplotlib inline"
   ]
  },
  {
   "cell_type": "code",
   "execution_count": 3,
   "id": "incorporated-firewall",
   "metadata": {},
   "outputs": [],
   "source": [
    "from sklearn.metrics.pairwise import cosine_similarity\n",
    "from sklearn.feature_extraction.text import CountVectorizer "
   ]
  },
  {
   "cell_type": "markdown",
   "id": "stupid-topic",
   "metadata": {},
   "source": [
    "#### Resumes we are going to use during our analysis"
   ]
  },
  {
   "cell_type": "code",
   "execution_count": 20,
   "id": "leading-lottery",
   "metadata": {},
   "outputs": [],
   "source": [
    "resume1=docx2txt.process('C:/Users/jahna/Downloads/jahnavi.docx')"
   ]
  },
  {
   "cell_type": "code",
   "execution_count": 21,
   "id": "anticipated-chambers",
   "metadata": {},
   "outputs": [],
   "source": [
    "resume2=docx2txt.process('C:/Users/jahna/Downloads/Vishnu.docx')"
   ]
  },
  {
   "cell_type": "markdown",
   "id": "detected-exhaust",
   "metadata": {},
   "source": [
    "#### Job Description can be entered by the user"
   ]
  },
  {
   "cell_type": "code",
   "execution_count": 22,
   "id": "golden-counter",
   "metadata": {},
   "outputs": [
    {
     "name": "stdout",
     "output_type": "stream",
     "text": [
      "Enter the job description: Proficiency in SQL and data visualization tools (e.g. Tableau, Looker, etc.) as well as standard NLP analysis tooling (e.g. Numpy, Pandas, Jupyter, etc.) Strong knowledge of statistics and experimental design 3+ years experience working with and analyzing large data sets to solve problems (Bonus: part of that with language/text data) The ability to communicate results clearly written, verbally, and via presentations Bonus: an advanced degree in a quantitative field (e.g., Statistics, Sciences, Engineering, CS, Math)\n"
     ]
    }
   ],
   "source": [
    "#Prompt for the Job description.\n",
    "jd = input(\"Enter the job description: \")  "
   ]
  },
  {
   "cell_type": "markdown",
   "id": "surface-dancing",
   "metadata": {},
   "source": [
    "#### Function to get similarity score between resume and JD with the help of cosine similarity"
   ]
  },
  {
   "cell_type": "code",
   "execution_count": 23,
   "id": "attractive-screening",
   "metadata": {},
   "outputs": [],
   "source": [
    "def get_similarity(resume, jd):\n",
    "    res = ''.join([i for i in resume if not i.isdigit()])\n",
    "    res_jd=[res, jd]\n",
    "    cntv = CountVectorizer()\n",
    "    count_matrix = cntv.fit_transform(res_jd)\n",
    "    percentage = round((cosine_similarity(count_matrix)[0][1] * 100),2)\n",
    "    return percentage"
   ]
  },
  {
   "cell_type": "markdown",
   "id": "parallel-voltage",
   "metadata": {},
   "source": [
    "#### Similarity score of first applicant"
   ]
  },
  {
   "cell_type": "code",
   "execution_count": 24,
   "id": "rational-bahamas",
   "metadata": {},
   "outputs": [
    {
     "name": "stdout",
     "output_type": "stream",
     "text": [
      "\n",
      "Similarity Scores: between resume 1 and Job Description is  53.58\n"
     ]
    }
   ],
   "source": [
    "per1=get_similarity(resume1,jd)\n",
    "print(\"\\nSimilarity Scores: between resume 1 and Job Description is \",per1) "
   ]
  },
  {
   "cell_type": "markdown",
   "id": "diverse-cycling",
   "metadata": {},
   "source": [
    "#### Similarity score of second applicant"
   ]
  },
  {
   "cell_type": "code",
   "execution_count": 25,
   "id": "invisible-warren",
   "metadata": {},
   "outputs": [
    {
     "name": "stdout",
     "output_type": "stream",
     "text": [
      "\n",
      "Similarity Scores: between resume 1 and Job Description is  50.86\n"
     ]
    }
   ],
   "source": [
    "per2=get_similarity(resume2,jd)\n",
    "print(\"\\nSimilarity Scores: between resume 1 and Job Description is \",per1) "
   ]
  },
  {
   "cell_type": "markdown",
   "id": "behavioral-article",
   "metadata": {},
   "source": [
    "#### Used Jaccard distance as a dissimmilarity measure to see how different the resume and JD are"
   ]
  },
  {
   "cell_type": "code",
   "execution_count": 45,
   "id": "smoking-filename",
   "metadata": {},
   "outputs": [
    {
     "name": "stdout",
     "output_type": "stream",
     "text": [
      "\n",
      "  Jaccard  :   0.569620253164557\n"
     ]
    }
   ],
   "source": [
    "def jaccard_distance(resume1,jd):\n",
    "    intersection=len(set.intersection(*[set(resume1),set(jd)]))\n",
    "    union=len(set.union(*[set(resume1),set(jd)]))\n",
    "    return intersection/float(union)\n",
    "b=jaccard_distance(resume1,jd) \n",
    "\n",
    "print('\\n  Jaccard  :  ', b)  "
   ]
  },
  {
   "cell_type": "markdown",
   "id": "stuffed-nursery",
   "metadata": {},
   "source": [
    "#### Function to do SpellCheker in the resume"
   ]
  },
  {
   "cell_type": "code",
   "execution_count": 26,
   "id": "final-dubai",
   "metadata": {},
   "outputs": [],
   "source": [
    "from spellchecker import SpellChecker\n",
    "spell = SpellChecker()"
   ]
  },
  {
   "cell_type": "code",
   "execution_count": 27,
   "id": "departmental-floating",
   "metadata": {},
   "outputs": [],
   "source": [
    "def spell_check(list):\n",
    "    spell_mistake= False\n",
    "    for i in list:\n",
    "        if i.isalpha()==True:\n",
    "            if i[0].isupper():\n",
    "                exit\n",
    "            else:\n",
    "                i=i.lower()\n",
    "                word=spell.correction(i)\n",
    "                if i!= word:\n",
    "                    print('wrong spelling: ',i,'\\nSuggestions are as follow :',word)\n",
    "                    spell_mistake= True\n",
    "    if spell_mistake==False:\n",
    "        print('No spelling mistakes, good to go..') "
   ]
  },
  {
   "cell_type": "code",
   "execution_count": 30,
   "id": "straight-thinking",
   "metadata": {},
   "outputs": [],
   "source": [
    "word = resume1.split()"
   ]
  },
  {
   "cell_type": "code",
   "execution_count": 31,
   "id": "descending-testing",
   "metadata": {
    "scrolled": true
   },
   "outputs": [
    {
     "name": "stdout",
     "output_type": "stream",
     "text": [
      "wrong spelling:  reﬁned \n",
      "Suggestions are as follow : reined\n",
      "wrong spelling:  nltk \n",
      "Suggestions are as follow : not\n",
      "wrong spelling:  bigrams \n",
      "Suggestions are as follow : grams\n",
      "wrong spelling:  dplyr \n",
      "Suggestions are as follow : duly\n",
      "wrong spelling:  numpy \n",
      "Suggestions are as follow : bumpy\n",
      "wrong spelling:  preprocessing \n",
      "Suggestions are as follow : reprocessing\n"
     ]
    }
   ],
   "source": [
    "spell_check(word)"
   ]
  },
  {
   "cell_type": "markdown",
   "id": "appropriate-highlight",
   "metadata": {},
   "source": [
    "### Part - 2 Summarizing Resume and Finding Important Keywords"
   ]
  },
  {
   "cell_type": "markdown",
   "id": "complex-maple",
   "metadata": {},
   "source": [
    "#### Libraries required for summarizing the resume"
   ]
  },
  {
   "cell_type": "code",
   "execution_count": 32,
   "id": "disciplinary-expense",
   "metadata": {},
   "outputs": [],
   "source": [
    "from gensim.summarization.summarizer import summarize\n",
    "from gensim.summarization import keywords"
   ]
  },
  {
   "cell_type": "markdown",
   "id": "pacific-aquatic",
   "metadata": {},
   "source": [
    "#### Summarizing resume"
   ]
  },
  {
   "cell_type": "code",
   "execution_count": 33,
   "id": "passive-acting",
   "metadata": {},
   "outputs": [
    {
     "name": "stdout",
     "output_type": "stream",
     "text": [
      "Highly determined Data Science graduate having 2+ years of experience using Machine Learning and NLP to solve challenging business problems.\n",
      "Strong proficiency in R, Python, SQL, and Tableau using which I have leveraged large-scale real-time data in making impactful business decisions.\n",
      "Software Tools\t: Big Data(Hadoop, Spark, Map Reduce, HBase), MS Excel, MySQL, R, Scikit-learn \n",
      "Analytics/Visualization : Statistics, Machine Learning, Text Mining (NLP), Deep Learning, Tableau, Power BI, Time Series Analysis\n",
      "Academic Courses         : Data Mining, Statistical Analysis, Machine Learning, Cloud Computing, Data Visualization, Advanced Text Mining \n"
     ]
    }
   ],
   "source": [
    " text_resume = str(resume1)\n",
    "resume = summarize(text_resume, ratio=0.1)\n",
    "print(resume)"
   ]
  },
  {
   "cell_type": "markdown",
   "id": "later-exclusive",
   "metadata": {},
   "source": [
    "#### Performed feature extraction with the help of count vectorizer"
   ]
  },
  {
   "cell_type": "code",
   "execution_count": 34,
   "id": "renewable-flood",
   "metadata": {},
   "outputs": [],
   "source": [
    "text_list = [resume, jd]\n",
    "from sklearn.feature_extraction.text import CountVectorizer\n",
    "cv = CountVectorizer()\n",
    "count_matrix = cv.fit_transform(text_list)"
   ]
  },
  {
   "cell_type": "code",
   "execution_count": 36,
   "id": "beneficial-treasury",
   "metadata": {},
   "outputs": [
    {
     "data": {
      "text/plain": [
       "<2x101 sparse matrix of type '<class 'numpy.int64'>'\n",
       "\twith 122 stored elements in Compressed Sparse Row format>"
      ]
     },
     "execution_count": 36,
     "metadata": {},
     "output_type": "execute_result"
    }
   ],
   "source": [
    "count_matrix"
   ]
  },
  {
   "cell_type": "code",
   "execution_count": 37,
   "id": "medieval-cleaners",
   "metadata": {},
   "outputs": [
    {
     "name": "stdout",
     "output_type": "stream",
     "text": [
      "[[1.        0.4237289]\n",
      " [0.4237289 1.       ]]\n"
     ]
    }
   ],
   "source": [
    "from sklearn.metrics.pairwise import cosine_similarity\n",
    "matchPercentage = cosine_similarity(count_matrix)\n",
    "print(matchPercentage)"
   ]
  },
  {
   "cell_type": "code",
   "execution_count": 38,
   "id": "backed-memphis",
   "metadata": {},
   "outputs": [
    {
     "name": "stdout",
     "output_type": "stream",
     "text": [
      "Your resume matches about 42.37% of the job description.\n"
     ]
    }
   ],
   "source": [
    "# get the match percentage\n",
    "matchPercentage = cosine_similarity(count_matrix)[0][1] * 100\n",
    "matchPercentage = round(matchPercentage, 2) \n",
    "print(\"Your resume matches about \"+ str(matchPercentage)+ \"% of the job description.\")"
   ]
  },
  {
   "cell_type": "markdown",
   "id": "binary-jewelry",
   "metadata": {},
   "source": [
    "#### Extracted important keywords from JD and resume "
   ]
  },
  {
   "cell_type": "code",
   "execution_count": 39,
   "id": "proprietary-deadline",
   "metadata": {},
   "outputs": [
    {
     "data": {
      "text/plain": [
       "'pandas\\nsciences\\ndata visualization tools\\nproblems\\nbonus\\ndesign\\nwritten\\nyears experience\\nresults clearly\\nlarge\\nnlp analysis tooling\\nstrong knowledge\\nquantitative field\\nadvanced degree\\ntableau\\nlooker\\nstatistics\\nengineering'"
      ]
     },
     "execution_count": 39,
     "metadata": {},
     "output_type": "execute_result"
    }
   ],
   "source": [
    "a = keywords(jd, ratio=0.7)\n",
    "a"
   ]
  },
  {
   "cell_type": "code",
   "execution_count": 40,
   "id": "nutritional-stake",
   "metadata": {},
   "outputs": [
    {
     "data": {
      "text/plain": [
       "'data\\ndetection\\ndetects\\nfatigue\\nfatigued\\nmodeling\\nmodel\\nfeature\\nfeatures\\nproject\\nprojects\\nteam\\nsegmentation\\nfraud\\nstatistical\\nassociate\\nassociation\\nexperience leveraging machine learning models\\ntechniques\\nincome\\ncompelling\\ndefaulters\\ndefault\\nprices\\ngithub\\nenron\\nstatements\\nproblem\\nsampling technique\\nuniversity\\nimproved academic performance\\nagriculture equipment manufacturing\\nlab\\nflorida\\nanalyst\\nmatlab\\nprasanth\\ntoolbox\\nfinal price\\nbusiness\\netl application\\naug\\nassistant\\nreduction\\nscikitlearn\\nsql\\nreddy\\nteaching\\npresent\\ncalifornia\\ngraduate\\ndriver\\nneural\\nhadoop\\nnov\\ngrowth\\ntechnologies\\npatur\\nload\\ntensorflow\\nbuilt multiple\\nprovided\\nproduct\\nproducts\\ntech\\nregistered\\ncross\\nelectronics\\ncgs\\nfraudulent\\npower\\ndataset\\npassionate advocate\\nsas\\nactivity\\nimbalanced\\nhyper tuning\\nhousing\\nbenchmarked\\nspark\\nvishnuprasanth\\npreparation turnover\\nkeras\\noracle\\ncard\\nled\\nhue\\nudacity certified\\ndeep\\njune\\nlinkedin\\ngpa\\nperson\\nskills\\njan\\namrita\\nutilized historical\\napplying\\nexpected\\neducation\\nscience\\nintuition\\nregression\\nvisualization\\nanalysis'"
      ]
     },
     "execution_count": 40,
     "metadata": {},
     "output_type": "execute_result"
    }
   ],
   "source": [
    "b = keywords(resume1, ratio =0.7)\n",
    "b"
   ]
  },
  {
   "cell_type": "code",
   "execution_count": 41,
   "id": "concerned-salem",
   "metadata": {},
   "outputs": [
    {
     "name": "stdout",
     "output_type": "stream",
     "text": [
      "['pandas', 'sciences', 'data', 'visualization', 'tools', 'problems', 'bonus', 'design', 'written', 'years', 'experience', 'results', 'clearly', 'large', 'nlp', 'analysis', 'tooling', 'strong', 'knowledge', 'quantitative', 'field', 'advanced', 'degree', 'tableau', 'looker', 'statistics', 'engineering']\n"
     ]
    }
   ],
   "source": [
    "c = []\n",
    "for i in a.split('\\n'):\n",
    "    for j in i.split(' '):\n",
    "        c.append(j)\n",
    "print(c)        "
   ]
  },
  {
   "cell_type": "code",
   "execution_count": 42,
   "id": "needed-jewel",
   "metadata": {},
   "outputs": [
    {
     "name": "stdout",
     "output_type": "stream",
     "text": [
      "['data', 'detection', 'detects', 'fatigue', 'fatigued', 'modeling', 'model', 'feature', 'features', 'project', 'projects', 'team', 'segmentation', 'fraud', 'statistical', 'associate', 'association', 'experience', 'leveraging', 'machine', 'learning', 'models', 'techniques', 'income', 'compelling', 'defaulters', 'default', 'prices', 'github', 'enron', 'statements', 'problem', 'sampling', 'technique', 'university', 'improved', 'academic', 'performance', 'agriculture', 'equipment', 'manufacturing', 'lab', 'florida', 'analyst', 'matlab', 'prasanth', 'toolbox', 'final', 'price', 'business', 'etl', 'application', 'aug', 'assistant', 'reduction', 'scikitlearn', 'sql', 'reddy', 'teaching', 'present', 'california', 'graduate', 'driver', 'neural', 'hadoop', 'nov', 'growth', 'technologies', 'patur', 'load', 'tensorflow', 'built', 'multiple', 'provided', 'product', 'products', 'tech', 'registered', 'cross', 'electronics', 'cgs', 'fraudulent', 'power', 'dataset', 'passionate', 'advocate', 'sas', 'activity', 'imbalanced', 'hyper', 'tuning', 'housing', 'benchmarked', 'spark', 'vishnuprasanth', 'preparation', 'turnover', 'keras', 'oracle', 'card', 'led', 'hue', 'udacity', 'certified', 'deep', 'june', 'linkedin', 'gpa', 'person', 'skills', 'jan', 'amrita', 'utilized', 'historical', 'applying', 'expected', 'education', 'science', 'intuition', 'regression', 'visualization', 'analysis']\n"
     ]
    }
   ],
   "source": [
    "d = []\n",
    "for i in b.split('\\n'):\n",
    "    for j in i.split(' '):\n",
    "        d.append(j)\n",
    "print(d)"
   ]
  },
  {
   "cell_type": "markdown",
   "id": "specified-stanford",
   "metadata": {},
   "source": [
    "#### Function to see whether resume covers all the important keywords mentioned in JD"
   ]
  },
  {
   "cell_type": "code",
   "execution_count": 43,
   "id": "standing-appointment",
   "metadata": {},
   "outputs": [
    {
     "name": "stdout",
     "output_type": "stream",
     "text": [
      "Present words are:  ['data', 'visualization', 'experience', 'analysis']\n",
      "Absent words are:  ['pandas', 'sciences', 'tools', 'problems', 'bonus', 'design', 'written', 'years', 'results', 'clearly', 'large', 'nlp', 'tooling', 'strong', 'knowledge', 'quantitative', 'field', 'advanced', 'degree', 'tableau', 'looker', 'statistics', 'engineering']\n"
     ]
    }
   ],
   "source": [
    "present = []\n",
    "absent = []\n",
    "for i in c:\n",
    "    if i in d:\n",
    "        present.append(i) \n",
    "    else:\n",
    "        absent.append(i)\n",
    "print(\"Present words are: \", present)\n",
    "print(\"Absent words are: \", absent)"
   ]
  },
  {
   "cell_type": "markdown",
   "id": "extreme-caribbean",
   "metadata": {},
   "source": [
    "### Part-3 Classification of Skills "
   ]
  },
  {
   "cell_type": "code",
   "execution_count": 5,
   "id": "impossible-check",
   "metadata": {},
   "outputs": [],
   "source": [
    "from spacy.matcher import PhraseMatcher"
   ]
  },
  {
   "cell_type": "code",
   "execution_count": 6,
   "id": "involved-youth",
   "metadata": {},
   "outputs": [],
   "source": [
    "pdfFileObj = open('C:/Users/jahna/Downloads/Jahnavi.pdf','rb')"
   ]
  },
  {
   "cell_type": "code",
   "execution_count": 7,
   "id": "jewish-burke",
   "metadata": {},
   "outputs": [],
   "source": [
    "pdfReader = PyPDF2.PdfFileReader(pdfFileObj)"
   ]
  },
  {
   "cell_type": "code",
   "execution_count": 8,
   "id": "funny-permit",
   "metadata": {},
   "outputs": [],
   "source": [
    "text=\"\"\n",
    "count=0"
   ]
  },
  {
   "cell_type": "code",
   "execution_count": 10,
   "id": "brilliant-objective",
   "metadata": {},
   "outputs": [],
   "source": [
    "num_pages = 1"
   ]
  },
  {
   "cell_type": "code",
   "execution_count": 11,
   "id": "committed-hungary",
   "metadata": {},
   "outputs": [],
   "source": [
    "while count < num_pages:\n",
    "    pageObj = pdfReader.getPage(count)\n",
    "    count +=1\n",
    "    text += pageObj.extractText()"
   ]
  },
  {
   "cell_type": "code",
   "execution_count": 14,
   "id": "scientific-pacific",
   "metadata": {},
   "outputs": [],
   "source": [
    "import re\n",
    "import string\n",
    "text = text.lower()\n",
    "text = re.sub(r'\\d+','',text)\n",
    "text = text.translate(str.maketrans('','',string.punctuation))"
   ]
  },
  {
   "cell_type": "code",
   "execution_count": 15,
   "id": "aging-thinking",
   "metadata": {},
   "outputs": [],
   "source": [
    "# Created dictionary with five concentrations of Data Science\n",
    "\n",
    "terms = {'Data Engineering & Warehousing ':['build', 'maintain', 'data', 'pipelines', 'engineering', 'organize', \n",
    "                                            'large','integrity','testing', 'validation', 'Postgres DBs', 'Kinesis',  \n",
    "                                            'APIs', 'Gathering', 'ETL', 'Modeling','data warehouse', 'integrate', \n",
    "                                            'SQL', 'Server', 'design', 'solution', 'ad-hoc', 'streamline','extraction', \n",
    "                                            'troubleshoot', 'architecture', 'endpoints', 'development', 'lake', 'architecture',\n",
    "                                            'databases', 'NoSQL', 'exploration'],      \n",
    "        'Data Mining & Statistical Analysis':['SAS', 'ANOVA', 'statistical', 'methodologies', 'regression', 'data mining',\n",
    "                                             'problem-solving', 'theories', 'test', 'hypotheses', 'anamoly-detection',\n",
    "                                             'SPSS', 'RStudio', 'quantitative', 'analyses', 'model', 'mathematics', 'statistic',\n",
    "                                             'techniques', 'Bayesian', 'research', 'sampling', 'findings', 'analysis', 'R',\n",
    "                                             'conduct', 'insights', 'statistical integrity', 'math', 'identify', 'analyze',\n",
    "                                             'trend', 'stake-holders', 'MATLAB', 'Inferential Statistics','Multivariate Analysis', \n",
    "                                              'Linear','Non-linear', 'mortality', 'risk factors', 'survey'],\n",
    "        'Cloud & Distributed Computing':['multi-cloud', 'develop','cloud solutions', 'domain','architects', 'technical', 'cloud',\n",
    "                                        'architecture','engineering', 'TOGAF','Zachman', 'Policies','Governance', 'Strategies',\n",
    "                                        'AWS', 'Redshift', 'PostgresQL', 'Oracle', 'cloud based', 'OLTP''metadata','OLAP', 'GCP',\n",
    "                                        'Spark', 'APIs', 'Python', 'framework', 'understanding', 'data-driven', 'Azure', 'platform',\n",
    "                                        'design', 'domain', 'tool', 'trend', 'deployment', 'application','build','environment','DevOps',\n",
    "                                         'pipeline', 'manage', 'server', 'services'],\n",
    "        'ML & AI':['structured', 'unstructured', 'kafka', 'spark', 'datapieline', 'big data','technologies', 'hive','hadoop','PySpark', \n",
    "                   'Python', 'SQL', 'MySQL', 'databases','tools', 'AWS', 'GCP', 'information retrieval', 'machine learning', 'features', \n",
    "                   'engineering','data mining', 'data processing', 'large', 'NLP', 'text', 'analytical skills', 'deployment','Git', 'Linux', \n",
    "                   'Windows','C','C++','Java','DevOps','distributed', 'software','development','requirements', 'experience', 'Tensor Flow', \n",
    "                   'PyTorch','supervised', 'unsupervised', 'building','evaluation', 'ML libraries','frameworks', 'exploratory analyses',\n",
    "                   'traditional','techniques','AI', 'algorithms', 'analyze', 'develop', 'evaluate','classification','library'],\n",
    "        'Data Visualization':['analytics','BI Tools','chart','big data','business intelligence','power BI','BOBJ','visualization','data',\n",
    "                              'database','data mining','data science','charts','hadoop','graphs','MS Excel','pivot-tables','machine learning',\n",
    "                              'creative','nosql','nlp','predictive','insights','python','r','sql','tableau','text mining','findings', 'communication', \n",
    "                              'skills', 'statistical', 'data-driven', 'SPSS', 'Alteryx', 'business', 'identify', 'dashboard','Bash','statistical',\n",
    "                             'resolve', 'translate', 'summerize', 'analyst', 'ggplot2', 'reporting', 'business', 'result']}\n"
   ]
  },
  {
   "cell_type": "code",
   "execution_count": 16,
   "id": "white-church",
   "metadata": {},
   "outputs": [],
   "source": [
    "de= 0\n",
    "dm = 0\n",
    "cc = 0\n",
    "mlai=0\n",
    "dv = 0\n",
    "\n",
    "scores = []\n",
    "\n",
    "for area in terms.keys():\n",
    "        \n",
    "    if area == 'Data Engineering & Warehousing':\n",
    "        for word in terms[area]:\n",
    "            if word in text:\n",
    "                de +=1\n",
    "        scores.append(de)\n",
    "        \n",
    "    elif area == 'Data Mining & Statistical Analysis':\n",
    "        for word in terms[area]:\n",
    "            if word in text:\n",
    "                dm +=1\n",
    "        scores.append(dm)\n",
    "        \n",
    "    elif area == 'Cloud & Distributed Computing':\n",
    "        for word in terms[area]:\n",
    "            if word in text:\n",
    "                cc +=1\n",
    "        scores.append(cc)\n",
    "    \n",
    "    elif area == 'ML & AI':\n",
    "        for word in terms[area]:\n",
    "            if word in text:\n",
    "                mlai +=1\n",
    "        scores.append(mlai)\n",
    "        \n",
    "    else:\n",
    "        for word in terms[area]:\n",
    "            if word in text:\n",
    "                dv +=1\n",
    "        scores.append(dv)"
   ]
  },
  {
   "cell_type": "code",
   "execution_count": 17,
   "id": "honey-disposition",
   "metadata": {},
   "outputs": [
    {
     "data": {
      "text/html": [
       "<div>\n",
       "<style scoped>\n",
       "    .dataframe tbody tr th:only-of-type {\n",
       "        vertical-align: middle;\n",
       "    }\n",
       "\n",
       "    .dataframe tbody tr th {\n",
       "        vertical-align: top;\n",
       "    }\n",
       "\n",
       "    .dataframe thead th {\n",
       "        text-align: right;\n",
       "    }\n",
       "</style>\n",
       "<table border=\"1\" class=\"dataframe\">\n",
       "  <thead>\n",
       "    <tr style=\"text-align: right;\">\n",
       "      <th></th>\n",
       "      <th>score</th>\n",
       "    </tr>\n",
       "  </thead>\n",
       "  <tbody>\n",
       "    <tr>\n",
       "      <th>Data Visualization</th>\n",
       "      <td>28</td>\n",
       "    </tr>\n",
       "    <tr>\n",
       "      <th>ML &amp; AI</th>\n",
       "      <td>16</td>\n",
       "    </tr>\n",
       "    <tr>\n",
       "      <th>Data Mining &amp; Statistical Analysis</th>\n",
       "      <td>8</td>\n",
       "    </tr>\n",
       "    <tr>\n",
       "      <th>Data Engineering &amp; Warehousing</th>\n",
       "      <td>6</td>\n",
       "    </tr>\n",
       "    <tr>\n",
       "      <th>Cloud &amp; Distributed Computing</th>\n",
       "      <td>4</td>\n",
       "    </tr>\n",
       "  </tbody>\n",
       "</table>\n",
       "</div>"
      ],
      "text/plain": [
       "                                    score\n",
       "Data Visualization                     28\n",
       "ML & AI                                16\n",
       "Data Mining & Statistical Analysis      8\n",
       "Data Engineering & Warehousing          6\n",
       "Cloud & Distributed Computing           4"
      ]
     },
     "execution_count": 17,
     "metadata": {},
     "output_type": "execute_result"
    }
   ],
   "source": [
    "summary = pd.DataFrame(scores,index=terms.keys(),columns=['score']).sort_values(by='score',ascending=False)\n",
    "summary"
   ]
  },
  {
   "cell_type": "code",
   "execution_count": 18,
   "id": "strategic-lease",
   "metadata": {},
   "outputs": [
    {
     "data": {
      "image/png": "[encoded data removed]",
      "text/plain": [
       "<Figure size 504x504 with 1 Axes>"
      ]
     },
     "metadata": {},
     "output_type": "display_data"
    }
   ],
   "source": [
    "pie = plt.figure(figsize=(7,7))\n",
    "plt.pie(summary['score'], labels=summary.index, explode = (0.07,0,0,0,0), autopct='%1.0f%%',shadow=True,startangle=90)\n",
    "plt.title('Classification of Skills')\n",
    "plt.axis('equal')\n",
    "plt.show()"
   ]
  }
 ],
 "metadata": {
  "kernelspec": {
   "display_name": "Python 3",
   "language": "python",
   "name": "python3"
  },
  "language_info": {
   "codemirror_mode": {
    "name": "ipython",
    "version": 3
   },
   "file_extension": ".py",
   "mimetype": "text/x-python",
   "name": "python",
   "nbconvert_exporter": "python",
   "pygments_lexer": "ipython3",
   "version": "3.7.0"
  }
 },
 "nbformat": 4,
 "nbformat_minor": 5
}
